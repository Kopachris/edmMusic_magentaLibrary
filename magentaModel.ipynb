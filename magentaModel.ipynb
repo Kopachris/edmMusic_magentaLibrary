{
  "nbformat": 4,
  "nbformat_minor": 0,
  "metadata": {
    "colab": {
      "name": "magentaModel",
      "provenance": [],
      "collapsed_sections": [],
      "machine_shape": "hm"
    },
    "kernelspec": {
      "name": "python3",
      "display_name": "Python 3"
    }
  },
  "cells": [
    {
      "cell_type": "markdown",
      "metadata": {
        "id": "w8XwknQrqfuG",
        "colab_type": "text"
      },
      "source": [
        "## Set Up"
      ]
    },
    {
      "cell_type": "code",
      "metadata": {
        "id": "gmuCZw5QmLuJ",
        "colab_type": "code",
        "colab": {}
      },
      "source": [
        "#Initialize TPU\n",
        "%tensorflow_version 1.x\n",
        "import tensorflow as tf\n",
        "import os\n",
        "\n",
        "resolver = tf.distribute.cluster_resolver.TPUClusterResolver(tpu='grpc://' + os.environ['COLAB_TPU_ADDR'])\n",
        "tf.config.experimental_connect_to_cluster(resolver)\n",
        "# This is the TPU initialization code that has to be at the beginning.\n",
        "tf.tpu.experimental.initialize_tpu_system(resolver)\n",
        "strategy = tf.distribute.experimental.TPUStrategy(resolver)"
      ],
      "execution_count": 0,
      "outputs": []
    },
    {
      "cell_type": "code",
      "metadata": {
        "id": "joJIkwc8pSob",
        "colab_type": "code",
        "outputId": "3dea3004-c99d-4ca7-ebb0-9fb2aad970d2",
        "colab": {
          "base_uri": "https://localhost:8080/",
          "height": 210
        }
      },
      "source": [
        "#Code to install necessary libraries and perform authorization\n",
        "!apt-get install -y -qq software-properties-common python-software-properties module-init-tools\n",
        "!add-apt-repository -y ppa:alessandro-strada/ppa 2>&1 > /dev/null\n",
        "!apt-get update -qq 2>&1 > /dev/null\n",
        "!apt-get -y install -qq google-drive-ocamlfuse fuse\n",
        "from google.colab import auth\n",
        "auth.authenticate_user()\n",
        "from oauth2client.client import GoogleCredentials\n",
        "creds = GoogleCredentials.get_application_default()\n",
        "import getpass\n",
        "!google-drive-ocamlfuse -headless -id={creds.client_id} -secret={creds.client_secret} < /dev/null 2>&1 | grep URL\n",
        "vcode = getpass.getpass()\n",
        "!echo {vcode} | google-drive-ocamlfuse -headless -id={creds.client_id} -secret={creds.client_secret}\n",
        "\n",
        "#Mount google drive \n",
        "!mkdir -p drive \n",
        "!google-drive-ocamlfuse drive"
      ],
      "execution_count": 0,
      "outputs": [
        {
          "output_type": "stream",
          "text": [
            "E: Package 'python-software-properties' has no installation candidate\n",
            "Selecting previously unselected package google-drive-ocamlfuse.\n",
            "(Reading database ... 144568 files and directories currently installed.)\n",
            "Preparing to unpack .../google-drive-ocamlfuse_0.7.19-0ubuntu1~ubuntu18.04.1_amd64.deb ...\n",
            "Unpacking google-drive-ocamlfuse (0.7.19-0ubuntu1~ubuntu18.04.1) ...\n",
            "Setting up google-drive-ocamlfuse (0.7.19-0ubuntu1~ubuntu18.04.1) ...\n",
            "Processing triggers for man-db (2.8.3-2ubuntu0.1) ...\n",
            "Please, open the following URL in a web browser: https://accounts.google.com/o/oauth2/auth?client_id=32555940559.apps.googleusercontent.com&redirect_uri=urn%3Aietf%3Awg%3Aoauth%3A2.0%3Aoob&scope=https%3A%2F%2Fwww.googleapis.com%2Fauth%2Fdrive&response_type=code&access_type=offline&approval_prompt=force\n",
            "Please, open the following URL in a web browser: https://accounts.google.com/o/oauth2/auth?client_id=32555940559.apps.googleusercontent.com&redirect_uri=urn%3Aietf%3Awg%3Aoauth%3A2.0%3Aoob&scope=https%3A%2F%2Fwww.googleapis.com%2Fauth%2Fdrive&response_type=code&access_type=offline&approval_prompt=force\n",
            "Please enter the verification code: Access token retrieved correctly.\n"
          ],
          "name": "stdout"
        }
      ]
    },
    {
      "cell_type": "code",
      "metadata": {
        "id": "RtRQ_MxOqGAJ",
        "colab_type": "code",
        "colab": {}
      },
      "source": [
        "#Path\n",
        "import os\n",
        "os.chdir('/content/drive/musicProject')\n",
        "\n",
        "#No need to clone Magenta git\n",
        "#Already cloned"
      ],
      "execution_count": 0,
      "outputs": []
    },
    {
      "cell_type": "markdown",
      "metadata": {
        "id": "ulVnRnODqaRX",
        "colab_type": "text"
      },
      "source": [
        "## Loading/Installing Magenta"
      ]
    },
    {
      "cell_type": "code",
      "metadata": {
        "id": "ZnOm6YuRqHa4",
        "colab_type": "code",
        "outputId": "a4142081-ce0f-41bd-babe-19e770fb558e",
        "colab": {
          "base_uri": "https://localhost:8080/",
          "height": 970
        }
      },
      "source": [
        "#@test {\"output\": \"ignore\"}\n",
        "%tensorflow_version 1.x\n",
        "\n",
        "!apt-get update -qq && apt-get install -qq libfluidsynth1 fluid-soundfont-gm build-essential libasound2-dev libjack-dev\n",
        "!pip install -qU pyfluidsynth pretty_midi\n",
        "\n",
        "!pip install -qU magenta\n",
        "\n",
        "# Hack to allow python to pick up the newly-installed fluidsynth lib. \n",
        "# This is only needed for the hosted Colab environment.\n",
        "import ctypes.util\n",
        "orig_ctypes_util_find_library = ctypes.util.find_library\n",
        "def proxy_find_library(lib):\n",
        "  if lib == 'fluidsynth':\n",
        "    return 'libfluidsynth.so.1'\n",
        "  else:\n",
        "    return orig_ctypes_util_find_library(lib)\n",
        "ctypes.util.find_library = proxy_find_library\n",
        "\n",
        "from google.colab import files\n",
        "import magenta.music as mm\n",
        "import magenta\n",
        "import tensorflow\n",
        "\n",
        "print(magenta.__version__)\n",
        "print(tensorflow.__version__)"
      ],
      "execution_count": 0,
      "outputs": [
        {
          "output_type": "stream",
          "text": [
            "TensorFlow 1.x selected.\n",
            "Selecting previously unselected package fluid-soundfont-gm.\n",
            "(Reading database ... 144573 files and directories currently installed.)\n",
            "Preparing to unpack .../fluid-soundfont-gm_3.1-5.1_all.deb ...\n",
            "Unpacking fluid-soundfont-gm (3.1-5.1) ...\n",
            "Preparing to unpack .../libasound2-dev_1.1.3-5ubuntu0.5_amd64.deb ...\n",
            "Unpacking libasound2-dev:amd64 (1.1.3-5ubuntu0.5) over (1.1.3-5ubuntu0.4) ...\n",
            "Preparing to unpack .../libasound2_1.1.3-5ubuntu0.5_amd64.deb ...\n",
            "Unpacking libasound2:amd64 (1.1.3-5ubuntu0.5) over (1.1.3-5ubuntu0.4) ...\n",
            "Preparing to unpack .../libasound2-data_1.1.3-5ubuntu0.5_all.deb ...\n",
            "Unpacking libasound2-data (1.1.3-5ubuntu0.5) over (1.1.3-5ubuntu0.4) ...\n",
            "Selecting previously unselected package libfluidsynth1:amd64.\n",
            "Preparing to unpack .../libfluidsynth1_1.1.9-1_amd64.deb ...\n",
            "Unpacking libfluidsynth1:amd64 (1.1.9-1) ...\n",
            "Setting up libasound2-data (1.1.3-5ubuntu0.5) ...\n",
            "Setting up fluid-soundfont-gm (3.1-5.1) ...\n",
            "Setting up libasound2:amd64 (1.1.3-5ubuntu0.5) ...\n",
            "Setting up libfluidsynth1:amd64 (1.1.9-1) ...\n",
            "Setting up libasound2-dev:amd64 (1.1.3-5ubuntu0.5) ...\n",
            "Processing triggers for libc-bin (2.27-3ubuntu1) ...\n",
            "/sbin/ldconfig.real: /usr/local/lib/python3.6/dist-packages/ideep4py/lib/libmkldnn.so.0 is not a symbolic link\n",
            "\n",
            "\u001b[K     |████████████████████████████████| 5.6MB 3.9MB/s \n",
            "\u001b[?25h  Building wheel for pretty-midi (setup.py) ... \u001b[?25l\u001b[?25hdone\n",
            "\u001b[K     |████████████████████████████████| 1.6MB 3.3MB/s \n",
            "\u001b[K     |████████████████████████████████| 3.2MB 48.4MB/s \n",
            "\u001b[K     |████████████████████████████████| 2.3MB 36.2MB/s \n",
            "\u001b[K     |████████████████████████████████| 1.6MB 39.6MB/s \n",
            "\u001b[K     |████████████████████████████████| 204kB 52.6MB/s \n",
            "\u001b[K     |████████████████████████████████| 61kB 6.5MB/s \n",
            "\u001b[K     |████████████████████████████████| 81kB 9.6MB/s \n",
            "\u001b[K     |████████████████████████████████| 225kB 43.8MB/s \n",
            "\u001b[K     |████████████████████████████████| 51kB 6.0MB/s \n",
            "\u001b[K     |████████████████████████████████| 59.2MB 72kB/s \n",
            "\u001b[K     |████████████████████████████████| 1.2MB 37.0MB/s \n",
            "\u001b[K     |████████████████████████████████| 174kB 57.3MB/s \n",
            "\u001b[K     |████████████████████████████████| 235kB 43.7MB/s \n",
            "\u001b[K     |████████████████████████████████| 92kB 10.7MB/s \n",
            "\u001b[K     |████████████████████████████████| 143kB 41.4MB/s \n",
            "\u001b[K     |████████████████████████████████| 122kB 56.8MB/s \n",
            "\u001b[K     |████████████████████████████████| 112kB 53.4MB/s \n",
            "\u001b[?25h  Building wheel for pygtrie (setup.py) ... \u001b[?25l\u001b[?25hdone\n",
            "  Building wheel for avro-python3 (setup.py) ... \u001b[?25l\u001b[?25hdone\n",
            "  Building wheel for gym (setup.py) ... \u001b[?25l\u001b[?25hdone\n",
            "  Building wheel for python-rtmidi (setup.py) ... \u001b[?25l\u001b[?25hdone\n",
            "  Building wheel for gast (setup.py) ... \u001b[?25l\u001b[?25hdone\n",
            "  Building wheel for oauth2client (setup.py) ... \u001b[?25l\u001b[?25hdone\n",
            "  Building wheel for httplib2 (setup.py) ... \u001b[?25l\u001b[?25hdone\n",
            "  Building wheel for hdfs (setup.py) ... \u001b[?25l\u001b[?25hdone\n",
            "  Building wheel for google-apitools (setup.py) ... \u001b[?25l\u001b[?25hdone\n",
            "  Building wheel for grpc-google-iam-v1 (setup.py) ... \u001b[?25l\u001b[?25hdone\n",
            "\u001b[31mERROR: pydrive 1.3.1 has requirement oauth2client>=4.0.0, but you'll have oauth2client 3.0.0 which is incompatible.\u001b[0m\n",
            "\u001b[31mERROR: google-api-python-client 1.7.12 has requirement httplib2<1dev,>=0.17.0, but you'll have httplib2 0.12.0 which is incompatible.\u001b[0m\n",
            "1.3.1\n",
            "1.15.2\n"
          ],
          "name": "stdout"
        }
      ]
    },
    {
      "cell_type": "markdown",
      "metadata": {
        "id": "gYxA5ZbiqtSF",
        "colab_type": "text"
      },
      "source": [
        "## Creating Dataset (data processing 1)\n",
        "\n",
        "Midi files will be converted to a dataset of note sequences."
      ]
    },
    {
      "cell_type": "code",
      "metadata": {
        "id": "OkXexiNmqRSh",
        "colab_type": "code",
        "colab": {}
      },
      "source": [
        "#input_dir is path to trainingFile folder containing all downloaded midis\n",
        "#output_file is path to output and name for noteSequences file\n",
        "\n",
        "!python /content/drive/Colab_Notebooks/musicProject/magenta/magenta/scripts/convert_dir_to_note_sequences.py --input_dir /content/drive/Colab_Notebooks/musicProject/data/trainingFile --output_file /content/drive/Colab_Notebooks/musicProject/data/noteSequences.tfrecord --recursive\n",
        "\n",
        "#not sure how to get it to run using multilines"
      ],
      "execution_count": 0,
      "outputs": []
    },
    {
      "cell_type": "markdown",
      "metadata": {
        "id": "2FmLVYE7q2bA",
        "colab_type": "text"
      },
      "source": [
        "## Create Sequence Examples for Training (data processing 2)\n",
        "\n",
        "Sequence Examples created from above dataset will contain a sequence of inputs and a sequence of labels that represent a polyphonic sequence."
      ]
    },
    {
      "cell_type": "code",
      "metadata": {
        "id": "1Ocmd-5irL4v",
        "colab_type": "code",
        "colab": {}
      },
      "source": [
        "#input is the path to noteSequence.tfrecord file from above\n",
        "#output_dir is path to output file\n",
        "\n",
        "!python /content/drive/Colab_Notebooks/musicProject/magenta/magenta/models/polyphony_rnn/polyphony_rnn_create_dataset.py --input /content/drive/Colab_Notebooks/musicProject/data/noteSequences.tfrecord --output_dir /content/drive/Colab_Notebooks/musicProject/data/datasequence_examples --eval_ratio=0.10\n",
        "\n",
        "#not sure how to get it to run using multilines"
      ],
      "execution_count": 0,
      "outputs": []
    },
    {
      "cell_type": "markdown",
      "metadata": {
        "id": "ph77u6UgrMm8",
        "colab_type": "text"
      },
      "source": [
        "## Model Training/Eval"
      ]
    },
    {
      "cell_type": "code",
      "metadata": {
        "id": "o2AkSIfsYGtJ",
        "colab_type": "code",
        "colab": {}
      },
      "source": [
        "#run_dir is where to store checkpoints\n",
        "#sequence_example_file is the generated file from above\n",
        "#num_training_steps is number of training steps\n",
        "#hparams is hyperparameters where you can specify batch size and rnnLayer size (will be using 3 layers with 256 units)\n",
        "\n",
        "with strategy.scope():\n",
        "    #trainingjob\n",
        "    !python /content/drive/musicProject/magenta/magenta/models/polyphony_rnn/polyphony_rnn_train.py --run_dir /content/tmp/polyphonyTrainingCheckpoints2/logdir/run1 --sequence_example_file /content/drive/musicProject/data/sequence_examples/training_poly_tracks.tfrecord --hparams \"batch_size=64,rnn_layer_sizes=[256,256,256]\" --num_training_steps 5000\n",
        "    #parallel evaluation job\n",
        "    !python /content/drive/musicProject/magenta/magenta/models/polyphony_rnn/polyphony_rnn_train.py --run_dir /content/tmp/polyphonyTrainingCheckpoints2/logdir/run1 --sequence_example_file /content/drive/musicProject/data/sequence_examples/eval_poly_tracks.tfrecord --hparams \"batch_size=64,rnn_layer_sizes=[256,256,256]\" --num_eval_examples 5000 --eval"
      ],
      "execution_count": 0,
      "outputs": []
    },
    {
      "cell_type": "code",
      "metadata": {
        "id": "zb_NbpiDFk9_",
        "colab_type": "code",
        "colab": {}
      },
      "source": [
        "#Save model\n",
        "#bundle_model is where to save your saved model and name\n",
        "\n",
        "!python /content/drive/musicProject/magenta/magenta/models/polyphony_rnn/polyphony_rnn_generate.py --run_dir /content/tmp/polyphonyTrainingCheckpoints2/logdir/run1 --hparams \"batch_size=64,rnn_layer_sizes=[256,256,256]\" --bundle_file /content/drive/musicProject/trainedModels/trainedPolyphony_rnn.mag --save_generator_bundle"
      ],
      "execution_count": 0,
      "outputs": []
    },
    {
      "cell_type": "markdown",
      "metadata": {
        "id": "xOHtHwVFrQbs",
        "colab_type": "text"
      },
      "source": [
        "## Polyphonic Track Generation"
      ]
    },
    {
      "cell_type": "code",
      "metadata": {
        "id": "fftYjWEyrkCl",
        "colab_type": "code",
        "outputId": "d1efd25b-a430-41b3-f0ec-b234479e09a0",
        "colab": {
          "base_uri": "https://localhost:8080/",
          "height": 1000
        }
      },
      "source": [
        "#Use saved model to generate track\n",
        "#for me trainedPolyphony_rnn4584.mag is the most recent save model and 4584 was the most recent training step\n",
        "\n",
        "!python /content/drive/musicProject/magenta/magenta/models/polyphony_rnn/polyphony_rnn_generate.py --bundle_file /content/drive/musicProject/trainedModels/trainedPolyphony_rnn4584.mag --output_dir /content/drive/musicProject/samples --num_outputs 15 --num_steps 800 --primer_midi /content/drive/musicProject/data/midiArtists/midiRandomParts/dh1.mid --condition_on_primer true --inject_primer_during_generation true"
      ],
      "execution_count": 0,
      "outputs": [
        {
          "output_type": "stream",
          "text": [
            "2020-04-18 02:32:54.028138: I tensorflow/stream_executor/platform/default/dso_loader.cc:44] Successfully opened dynamic library libcuda.so.1\n",
            "2020-04-18 02:32:54.071664: E tensorflow/stream_executor/cuda/cuda_driver.cc:318] failed call to cuInit: CUDA_ERROR_NO_DEVICE: no CUDA-capable device is detected\n",
            "2020-04-18 02:32:54.071726: I tensorflow/stream_executor/cuda/cuda_diagnostics.cc:156] kernel driver does not appear to be running on this host (65d1ba63fb79): /proc/driver/nvidia/version does not exist\n",
            "2020-04-18 02:32:54.111836: I tensorflow/core/platform/profile_utils/cpu_utils.cc:94] CPU Frequency: 2300000000 Hz\n",
            "2020-04-18 02:32:54.113044: I tensorflow/compiler/xla/service/service.cc:168] XLA service 0x76e36c0 initialized for platform Host (this does not guarantee that XLA will be used). Devices:\n",
            "2020-04-18 02:32:54.113111: I tensorflow/compiler/xla/service/service.cc:176]   StreamExecutor device (0): Host, Default Version\n",
            "INFO:tensorflow:Restoring parameters from /tmp/tmpgsak5f5r/model.ckpt\n",
            "I0418 02:32:54.205861 139633610504064 saver.py:1284] Restoring parameters from /tmp/tmpgsak5f5r/model.ckpt\n",
            "INFO:tensorflow:Need to generate 735 more steps for this sequence, will try asking for 3675 RNN steps\n",
            "I0418 02:32:54.315983 139633610504064 polyphony_sequence_generator.py:172] Need to generate 735 more steps for this sequence, will try asking for 3675 RNN steps\n",
            "INFO:tensorflow:Beam search yields sequence with log-likelihood: -2601.844727 \n",
            "I0418 02:33:01.108203 139633610504064 events_rnn_model.py:381] Beam search yields sequence with log-likelihood: -2601.844727 \n",
            "INFO:tensorflow:Need to generate 735 more steps for this sequence, will try asking for 3675 RNN steps\n",
            "I0418 02:33:03.500921 139633610504064 polyphony_sequence_generator.py:172] Need to generate 735 more steps for this sequence, will try asking for 3675 RNN steps\n",
            "INFO:tensorflow:Beam search yields sequence with log-likelihood: -2373.634766 \n",
            "I0418 02:33:09.973302 139633610504064 events_rnn_model.py:381] Beam search yields sequence with log-likelihood: -2373.634766 \n",
            "INFO:tensorflow:Need to generate 735 more steps for this sequence, will try asking for 3675 RNN steps\n",
            "I0418 02:33:12.285808 139633610504064 polyphony_sequence_generator.py:172] Need to generate 735 more steps for this sequence, will try asking for 3675 RNN steps\n",
            "INFO:tensorflow:Beam search yields sequence with log-likelihood: -2441.632324 \n",
            "I0418 02:33:18.696554 139633610504064 events_rnn_model.py:381] Beam search yields sequence with log-likelihood: -2441.632324 \n",
            "INFO:tensorflow:Need to generate 735 more steps for this sequence, will try asking for 3675 RNN steps\n",
            "I0418 02:33:20.666061 139633610504064 polyphony_sequence_generator.py:172] Need to generate 735 more steps for this sequence, will try asking for 3675 RNN steps\n",
            "INFO:tensorflow:Beam search yields sequence with log-likelihood: -2158.155762 \n",
            "I0418 02:33:27.208226 139633610504064 events_rnn_model.py:381] Beam search yields sequence with log-likelihood: -2158.155762 \n",
            "INFO:tensorflow:Need to generate 735 more steps for this sequence, will try asking for 3675 RNN steps\n",
            "I0418 02:33:29.349203 139633610504064 polyphony_sequence_generator.py:172] Need to generate 735 more steps for this sequence, will try asking for 3675 RNN steps\n",
            "INFO:tensorflow:Beam search yields sequence with log-likelihood: -2389.861328 \n",
            "I0418 02:33:35.749786 139633610504064 events_rnn_model.py:381] Beam search yields sequence with log-likelihood: -2389.861328 \n",
            "INFO:tensorflow:Need to generate 6 more steps for this sequence, will try asking for 30 RNN steps\n",
            "I0418 02:33:35.750954 139633610504064 polyphony_sequence_generator.py:172] Need to generate 6 more steps for this sequence, will try asking for 30 RNN steps\n",
            "INFO:tensorflow:Beam search yields sequence with log-likelihood: -2391.168457 \n",
            "I0418 02:33:37.361862 139633610504064 events_rnn_model.py:381] Beam search yields sequence with log-likelihood: -2391.168457 \n",
            "INFO:tensorflow:Need to generate 1 more steps for this sequence, will try asking for 5 RNN steps\n",
            "I0418 02:33:37.368720 139633610504064 polyphony_sequence_generator.py:172] Need to generate 1 more steps for this sequence, will try asking for 5 RNN steps\n",
            "INFO:tensorflow:Beam search yields sequence with log-likelihood: -2391.171875 \n",
            "I0418 02:33:39.073372 139633610504064 events_rnn_model.py:381] Beam search yields sequence with log-likelihood: -2391.171875 \n",
            "INFO:tensorflow:Need to generate 735 more steps for this sequence, will try asking for 3675 RNN steps\n",
            "I0418 02:33:41.174040 139633610504064 polyphony_sequence_generator.py:172] Need to generate 735 more steps for this sequence, will try asking for 3675 RNN steps\n",
            "INFO:tensorflow:Beam search yields sequence with log-likelihood: -2631.814453 \n",
            "I0418 02:33:47.752760 139633610504064 events_rnn_model.py:381] Beam search yields sequence with log-likelihood: -2631.814453 \n",
            "INFO:tensorflow:Need to generate 735 more steps for this sequence, will try asking for 3675 RNN steps\n",
            "I0418 02:33:50.658586 139633610504064 polyphony_sequence_generator.py:172] Need to generate 735 more steps for this sequence, will try asking for 3675 RNN steps\n",
            "INFO:tensorflow:Beam search yields sequence with log-likelihood: -2413.313477 \n",
            "I0418 02:33:57.249946 139633610504064 events_rnn_model.py:381] Beam search yields sequence with log-likelihood: -2413.313477 \n",
            "INFO:tensorflow:Need to generate 735 more steps for this sequence, will try asking for 3675 RNN steps\n",
            "I0418 02:33:59.553992 139633610504064 polyphony_sequence_generator.py:172] Need to generate 735 more steps for this sequence, will try asking for 3675 RNN steps\n",
            "INFO:tensorflow:Beam search yields sequence with log-likelihood: -2363.916016 \n",
            "I0418 02:34:06.152828 139633610504064 events_rnn_model.py:381] Beam search yields sequence with log-likelihood: -2363.916016 \n",
            "INFO:tensorflow:Need to generate 735 more steps for this sequence, will try asking for 3675 RNN steps\n",
            "I0418 02:34:11.287504 139633610504064 polyphony_sequence_generator.py:172] Need to generate 735 more steps for this sequence, will try asking for 3675 RNN steps\n",
            "INFO:tensorflow:Beam search yields sequence with log-likelihood: -2563.831543 \n",
            "I0418 02:34:18.015482 139633610504064 events_rnn_model.py:381] Beam search yields sequence with log-likelihood: -2563.831543 \n",
            "INFO:tensorflow:Need to generate 735 more steps for this sequence, will try asking for 3675 RNN steps\n",
            "I0418 02:34:19.994915 139633610504064 polyphony_sequence_generator.py:172] Need to generate 735 more steps for this sequence, will try asking for 3675 RNN steps\n",
            "INFO:tensorflow:Beam search yields sequence with log-likelihood: -2359.512695 \n",
            "I0418 02:34:26.622962 139633610504064 events_rnn_model.py:381] Beam search yields sequence with log-likelihood: -2359.512695 \n",
            "INFO:tensorflow:Need to generate 735 more steps for this sequence, will try asking for 3675 RNN steps\n",
            "I0418 02:34:28.544258 139633610504064 polyphony_sequence_generator.py:172] Need to generate 735 more steps for this sequence, will try asking for 3675 RNN steps\n",
            "INFO:tensorflow:Beam search yields sequence with log-likelihood: -2300.865479 \n",
            "I0418 02:34:35.213500 139633610504064 events_rnn_model.py:381] Beam search yields sequence with log-likelihood: -2300.865479 \n",
            "INFO:tensorflow:Need to generate 7 more steps for this sequence, will try asking for 35 RNN steps\n",
            "I0418 02:34:35.214937 139633610504064 polyphony_sequence_generator.py:172] Need to generate 7 more steps for this sequence, will try asking for 35 RNN steps\n",
            "INFO:tensorflow:Beam search yields sequence with log-likelihood: -2304.659912 \n",
            "I0418 02:34:36.853274 139633610504064 events_rnn_model.py:381] Beam search yields sequence with log-likelihood: -2304.659912 \n",
            "INFO:tensorflow:Need to generate 1 more steps for this sequence, will try asking for 5 RNN steps\n",
            "I0418 02:34:36.859962 139633610504064 polyphony_sequence_generator.py:172] Need to generate 1 more steps for this sequence, will try asking for 5 RNN steps\n",
            "INFO:tensorflow:Beam search yields sequence with log-likelihood: -2304.787598 \n",
            "I0418 02:34:38.450338 139633610504064 events_rnn_model.py:381] Beam search yields sequence with log-likelihood: -2304.787598 \n",
            "INFO:tensorflow:Need to generate 735 more steps for this sequence, will try asking for 3675 RNN steps\n",
            "I0418 02:34:40.867418 139633610504064 polyphony_sequence_generator.py:172] Need to generate 735 more steps for this sequence, will try asking for 3675 RNN steps\n",
            "INFO:tensorflow:Beam search yields sequence with log-likelihood: -2417.620361 \n",
            "I0418 02:34:47.541561 139633610504064 events_rnn_model.py:381] Beam search yields sequence with log-likelihood: -2417.620361 \n",
            "INFO:tensorflow:Need to generate 735 more steps for this sequence, will try asking for 3675 RNN steps\n",
            "I0418 02:34:50.402722 139633610504064 polyphony_sequence_generator.py:172] Need to generate 735 more steps for this sequence, will try asking for 3675 RNN steps\n",
            "INFO:tensorflow:Beam search yields sequence with log-likelihood: -2754.591064 \n",
            "I0418 02:34:57.056221 139633610504064 events_rnn_model.py:381] Beam search yields sequence with log-likelihood: -2754.591064 \n",
            "INFO:tensorflow:Need to generate 735 more steps for this sequence, will try asking for 3675 RNN steps\n",
            "I0418 02:34:59.326791 139633610504064 polyphony_sequence_generator.py:172] Need to generate 735 more steps for this sequence, will try asking for 3675 RNN steps\n",
            "INFO:tensorflow:Beam search yields sequence with log-likelihood: -2364.560547 \n",
            "I0418 02:35:06.032439 139633610504064 events_rnn_model.py:381] Beam search yields sequence with log-likelihood: -2364.560547 \n",
            "INFO:tensorflow:Need to generate 735 more steps for this sequence, will try asking for 3675 RNN steps\n",
            "I0418 02:35:08.073608 139633610504064 polyphony_sequence_generator.py:172] Need to generate 735 more steps for this sequence, will try asking for 3675 RNN steps\n",
            "INFO:tensorflow:Beam search yields sequence with log-likelihood: -2397.196045 \n",
            "I0418 02:35:14.750575 139633610504064 events_rnn_model.py:381] Beam search yields sequence with log-likelihood: -2397.196045 \n",
            "INFO:tensorflow:Wrote 15 MIDI files to /content/drive/musicProject/samples\n",
            "I0418 02:35:16.770005 139633610504064 polyphony_rnn_generate.py:238] Wrote 15 MIDI files to /content/drive/musicProject/samples\n"
          ],
          "name": "stdout"
        }
      ]
    }
  ]
}