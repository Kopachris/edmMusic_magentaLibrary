{
  "nbformat": 4,
  "nbformat_minor": 0,
  "metadata": {
    "colab": {
      "name": "magentaTrial_demonstration",
      "provenance": [],
      "collapsed_sections": [],
      "toc_visible": true
    },
    "kernelspec": {
      "name": "python3",
      "display_name": "Python 3"
    }
  },
  "cells": [
    {
      "cell_type": "markdown",
      "metadata": {
        "id": "kcgrKwuQc64E",
        "colab_type": "text"
      },
      "source": [
        "## Magenta Demonstration\n",
        "\n",
        "This notebook is a demonstration of magenta, where I familiarized myself with the library by using pretrained models to generate music and applying the GANSynth."
      ]
    },
    {
      "cell_type": "code",
      "metadata": {
        "id": "S1g1d5ARJAuq",
        "colab_type": "code",
        "outputId": "c8bb55ea-8872-4c7e-af9a-cc9a8b880e61",
        "colab": {
          "base_uri": "https://localhost:8080/",
          "height": 227
        }
      },
      "source": [
        "#Code to install necessary libraries and perform authorization\n",
        "!apt-get install -y -qq software-properties-common python-software-properties module-init-tools\n",
        "!add-apt-repository -y ppa:alessandro-strada/ppa 2>&1 > /dev/null\n",
        "!apt-get update -qq 2>&1 > /dev/null\n",
        "!apt-get -y install -qq google-drive-ocamlfuse fuse\n",
        "from google.colab import auth\n",
        "auth.authenticate_user()\n",
        "from oauth2client.client import GoogleCredentials\n",
        "creds = GoogleCredentials.get_application_default()\n",
        "import getpass\n",
        "!google-drive-ocamlfuse -headless -id={creds.client_id} -secret={creds.client_secret} < /dev/null 2>&1 | grep URL\n",
        "vcode = getpass.getpass()\n",
        "!echo {vcode} | google-drive-ocamlfuse -headless -id={creds.client_id} -secret={creds.client_secret}\n",
        "\n",
        "#Mount google drive \n",
        "!mkdir -p drive \n",
        "!google-drive-ocamlfuse drive"
      ],
      "execution_count": 0,
      "outputs": [
        {
          "output_type": "stream",
          "text": [
            "E: Package 'python-software-properties' has no installation candidate\n",
            "Selecting previously unselected package google-drive-ocamlfuse.\n",
            "(Reading database ... 144568 files and directories currently installed.)\n",
            "Preparing to unpack .../google-drive-ocamlfuse_0.7.19-0ubuntu1~ubuntu18.04.1_amd64.deb ...\n",
            "Unpacking google-drive-ocamlfuse (0.7.19-0ubuntu1~ubuntu18.04.1) ...\n",
            "Setting up google-drive-ocamlfuse (0.7.19-0ubuntu1~ubuntu18.04.1) ...\n",
            "Processing triggers for man-db (2.8.3-2ubuntu0.1) ...\n",
            "Please, open the following URL in a web browser: https://accounts.google.com/o/oauth2/auth?client_id=32555940559.apps.googleusercontent.com&redirect_uri=urn%3Aietf%3Awg%3Aoauth%3A2.0%3Aoob&scope=https%3A%2F%2Fwww.googleapis.com%2Fauth%2Fdrive&response_type=code&access_type=offline&approval_prompt=force\n",
            "··········\n",
            "Please, open the following URL in a web browser: https://accounts.google.com/o/oauth2/auth?client_id=32555940559.apps.googleusercontent.com&redirect_uri=urn%3Aietf%3Awg%3Aoauth%3A2.0%3Aoob&scope=https%3A%2F%2Fwww.googleapis.com%2Fauth%2Fdrive&response_type=code&access_type=offline&approval_prompt=force\n",
            "Please enter the verification code: Access token retrieved correctly.\n"
          ],
          "name": "stdout"
        }
      ]
    },
    {
      "cell_type": "code",
      "metadata": {
        "id": "gV20YC8lJM4K",
        "colab_type": "code",
        "colab": {}
      },
      "source": [
        "#Path\n",
        "import os\n",
        "os.chdir('/content/drive/Colab_Notebooks/musicProject/')"
      ],
      "execution_count": 0,
      "outputs": []
    },
    {
      "cell_type": "code",
      "metadata": {
        "id": "YKezjHuUJRvA",
        "colab_type": "code",
        "outputId": "ec533f52-6e62-46f9-a638-b027a51569e0",
        "colab": {
          "base_uri": "https://localhost:8080/",
          "height": 34
        }
      },
      "source": [
        "#Clone the git\n",
        "!git clone https://github.com/tensorflow/magenta.git"
      ],
      "execution_count": 0,
      "outputs": [
        {
          "output_type": "stream",
          "text": [
            "fatal: destination path 'magenta' already exists and is not an empty directory.\n"
          ],
          "name": "stdout"
        }
      ]
    },
    {
      "cell_type": "markdown",
      "metadata": {
        "id": "8KE0D8qednam",
        "colab_type": "text"
      },
      "source": [
        "## Loading/Installing Magenta"
      ]
    },
    {
      "cell_type": "code",
      "metadata": {
        "id": "Is19nv7ncO69",
        "colab_type": "code",
        "outputId": "f0bc95eb-f564-4e03-9482-8cd1178f41fd",
        "colab": {
          "base_uri": "https://localhost:8080/",
          "height": 831
        }
      },
      "source": [
        "#@test {\"output\": \"ignore\"}\n",
        "%tensorflow_version 1.x\n",
        "\n",
        "!apt-get update -qq && apt-get install -qq libfluidsynth1 fluid-soundfont-gm build-essential libasound2-dev libjack-dev\n",
        "!pip install -qU pyfluidsynth pretty_midi\n",
        "\n",
        "!pip install -qU magenta\n",
        "\n",
        "# Hack to allow python to pick up the newly-installed fluidsynth lib. \n",
        "# This is only needed for the hosted Colab environment.\n",
        "import ctypes.util\n",
        "orig_ctypes_util_find_library = ctypes.util.find_library\n",
        "def proxy_find_library(lib):\n",
        "  if lib == 'fluidsynth':\n",
        "    return 'libfluidsynth.so.1'\n",
        "  else:\n",
        "    return orig_ctypes_util_find_library(lib)\n",
        "ctypes.util.find_library = proxy_find_library\n",
        "\n",
        "from google.colab import files\n",
        "import magenta.music as mm\n",
        "import magenta\n",
        "import tensorflow\n",
        "\n",
        "print(magenta.__version__)\n",
        "print(tensorflow.__version__)"
      ],
      "execution_count": 0,
      "outputs": [
        {
          "output_type": "stream",
          "text": [
            "TensorFlow 1.x selected.\n",
            "Installing dependencies...\n",
            "Selecting previously unselected package fluid-soundfont-gm.\n",
            "(Reading database ... 144573 files and directories currently installed.)\n",
            "Preparing to unpack .../fluid-soundfont-gm_3.1-5.1_all.deb ...\n",
            "Unpacking fluid-soundfont-gm (3.1-5.1) ...\n",
            "Selecting previously unselected package libfluidsynth1:amd64.\n",
            "Preparing to unpack .../libfluidsynth1_1.1.9-1_amd64.deb ...\n",
            "Unpacking libfluidsynth1:amd64 (1.1.9-1) ...\n",
            "Setting up fluid-soundfont-gm (3.1-5.1) ...\n",
            "Setting up libfluidsynth1:amd64 (1.1.9-1) ...\n",
            "Processing triggers for libc-bin (2.27-3ubuntu1) ...\n",
            "/sbin/ldconfig.real: /usr/local/lib/python3.6/dist-packages/ideep4py/lib/libmkldnn.so.0 is not a symbolic link\n",
            "\n",
            "\u001b[K     |████████████████████████████████| 5.6MB 5.0MB/s \n",
            "\u001b[?25h  Building wheel for pretty-midi (setup.py) ... \u001b[?25l\u001b[?25hdone\n",
            "\u001b[K     |████████████████████████████████| 1.6MB 4.8MB/s \n",
            "\u001b[K     |████████████████████████████████| 2.3MB 39.9MB/s \n",
            "\u001b[K     |████████████████████████████████| 204kB 46.9MB/s \n",
            "\u001b[K     |████████████████████████████████| 1.6MB 38.9MB/s \n",
            "\u001b[K     |████████████████████████████████| 3.2MB 46.9MB/s \n",
            "\u001b[K     |████████████████████████████████| 51kB 7.2MB/s \n",
            "\u001b[K     |████████████████████████████████| 61kB 8.4MB/s \n",
            "\u001b[K     |████████████████████████████████| 225kB 51.6MB/s \n",
            "\u001b[K     |████████████████████████████████| 59.2MB 73kB/s \n",
            "\u001b[K     |████████████████████████████████| 1.2MB 41.4MB/s \n",
            "\u001b[K     |████████████████████████████████| 122kB 52.6MB/s \n",
            "\u001b[K     |████████████████████████████████| 143kB 49.3MB/s \n",
            "\u001b[K     |████████████████████████████████| 235kB 45.1MB/s \n",
            "\u001b[K     |████████████████████████████████| 92kB 11.0MB/s \n",
            "\u001b[K     |████████████████████████████████| 174kB 47.0MB/s \n",
            "\u001b[K     |████████████████████████████████| 112kB 51.1MB/s \n",
            "\u001b[?25h  Building wheel for avro-python3 (setup.py) ... \u001b[?25l\u001b[?25hdone\n",
            "  Building wheel for pygtrie (setup.py) ... \u001b[?25l\u001b[?25hdone\n",
            "  Building wheel for python-rtmidi (setup.py) ... \u001b[?25l\u001b[?25hdone\n",
            "  Building wheel for gast (setup.py) ... \u001b[?25l\u001b[?25hdone\n",
            "  Building wheel for gym (setup.py) ... \u001b[?25l\u001b[?25hdone\n",
            "  Building wheel for hdfs (setup.py) ... \u001b[?25l\u001b[?25hdone\n",
            "  Building wheel for httplib2 (setup.py) ... \u001b[?25l\u001b[?25hdone\n",
            "  Building wheel for google-apitools (setup.py) ... \u001b[?25l\u001b[?25hdone\n",
            "  Building wheel for grpc-google-iam-v1 (setup.py) ... \u001b[?25l\u001b[?25hdone\n",
            "\u001b[31mERROR: gym 0.15.7 has requirement cloudpickle~=1.2.0, but you'll have cloudpickle 1.3.0 which is incompatible.\u001b[0m\n",
            "\u001b[31mERROR: google-api-python-client 1.7.12 has requirement httplib2<1dev,>=0.17.0, but you'll have httplib2 0.12.0 which is incompatible.\u001b[0m\n",
            "\u001b[31mERROR: apache-beam 2.18.0 has requirement oauth2client<4,>=2.0.1, but you'll have oauth2client 4.1.3 which is incompatible.\u001b[0m\n",
            "Importing libraries and defining some helper functions...\n",
            "1.3.0\n",
            "1.15.2\n"
          ],
          "name": "stdout"
        }
      ]
    },
    {
      "cell_type": "markdown",
      "metadata": {
        "id": "vhgJj1pd_bv-",
        "colab_type": "text"
      },
      "source": [
        "## Music Geneneration"
      ]
    },
    {
      "cell_type": "code",
      "metadata": {
        "id": "MZF2GW0_c6n0",
        "colab_type": "code",
        "colab": {}
      },
      "source": [
        "!python /content/drive/Colab_Notebooks/musicProject/magenta/magenta/models/polyphony_rnn/polyphony_rnn_generate.py --bundle_file /content/drive/Colab_Notebooks/musicProject/preTrainedModels/polyphony_rnn.mag --output_dir /content/drive/Colab_Notebooks/musicProject/generated2 --num_outputs 5 --num_steps 800 --primer_midi /content/drive/Colab_Notebooks/musicProject/midi/dh1.mid --condition_on_primer true --inject_primer_during_generation true"
      ],
      "execution_count": 0,
      "outputs": []
    },
    {
      "cell_type": "markdown",
      "metadata": {
        "id": "vmxWkU6w_gnG",
        "colab_type": "text"
      },
      "source": [
        "## GAN Synth"
      ]
    },
    {
      "cell_type": "code",
      "metadata": {
        "id": "hsDBlFqtNtho",
        "colab_type": "code",
        "outputId": "b0c679d7-3813-49fd-e981-df29bbb4d232",
        "colab": {
          "base_uri": "https://localhost:8080/",
          "height": 1000
        }
      },
      "source": [
        "!python /content/drive/Colab_Notebooks/musicProject/magenta/magenta/models/gansynth/gansynth_generate.py --ckpt_dir /content/drive/Colab_Notebooks/musicProject/preTrainedModels/acoustic_only --output_dir /content/drive/Colab_Notebooks/musicProject --midi_file /content/drive/Colab_Notebooks/musicProject/generated2/5.mid"
      ],
      "execution_count": 0,
      "outputs": [
        {
          "output_type": "stream",
          "text": [
            "WARNING:tensorflow:From /tensorflow-1.15.2/python3.6/tensorflow_gan/python/estimator/tpu_gan_estimator.py:42: The name tf.estimator.tpu.TPUEstimator is deprecated. Please use tf.compat.v1.estimator.tpu.TPUEstimator instead.\n",
            "\n",
            "\tadam_beta1: 0.0\n",
            "\tadam_beta2: 0.99\n",
            "\taudio_length: 64000\n",
            "\tbatch_size_schedule: [8]\n",
            "\td_fn: specgram\n",
            "\tdata_normalizer: specgrams_prespecified_normalizer\n",
            "\tdata_type: mel\n",
            "\tdataset_name: nsynth_tfrecord\n",
            "\tdebug_hook: False\n",
            "\tdiscriminator_ac_loss_weight: 10.0\n",
            "\tdiscriminator_learning_rate: 0.0008\n",
            "\tfake_batch_size: 61\n",
            "\tfmap_base: 4096\n",
            "\tfmap_decay: 1.0\n",
            "\tfmap_max: 256\n",
            "\tg_fn: specgram\n",
            "\tgan:\n",
            "\tgen_gl_consistency_loss_weight: 0.0\n",
            "\tgenerator_ac_loss_weight: 10.0\n",
            "\tgenerator_learning_rate: 0.0008\n",
            "\tgradient_penalty_target: 1.0\n",
            "\tgradient_penalty_weight: 10.0\n",
            "\tkernel_size: 3\n",
            "\tlatent_vector_size: 256\n",
            "\tmag_normalizer_a: 0.0661371661726\n",
            "\tmag_normalizer_b: 0.113718730221\n",
            "\tmaster: \n",
            "\tnormalizer_margin: 0.8\n",
            "\tnormalizer_num_examples: 1000\n",
            "\tnum_resolutions: 7\n",
            "\tp_normalizer_a: 0.8\n",
            "\tp_normalizer_b: 0.0\n",
            "\tps_tasks: 0\n",
            "\treal_score_penalty_weight: 0.001\n",
            "\tsample_rate: 16000\n",
            "\tsave_summaries_num_images: 10000\n",
            "\tscale_base: 2\n",
            "\tscale_mode: ALL\n",
            "\tsimple_arch: False\n",
            "\tstable_stage_num_images: 800000\n",
            "\tstart_height: 2\n",
            "\tstart_width: 16\n",
            "\ttask: 0\n",
            "\tto_rgb_activation: tanh\n",
            "\ttotal_num_images: 11000000\n",
            "\ttrain_data_path: /tmp/gansynth/nsynth-train.tfrecord\n",
            "\ttrain_progressive: True\n",
            "\ttrain_root_dir: /content/drive/Colab_Notebooks/musicProject/preTrainedModels/acoustic_only\n",
            "\ttrain_time_limit: None\n",
            "\ttrain_time_stage_multiplier: 1.0\n",
            "\ttransition_stage_num_images: 800000\n",
            "Load model from /content/drive/Colab_Notebooks/musicProject/preTrainedModels/acoustic_only/stage_00012/./model.ckpt-11000000\n",
            "WARNING:tensorflow:From /usr/local/lib/python3.6/dist-packages/magenta/models/gansynth/lib/datasets.py:66: shuffle_and_repeat (from tensorflow.contrib.data.python.ops.shuffle_ops) is deprecated and will be removed in a future version.\n",
            "Instructions for updating:\n",
            "Use `tf.data.experimental.shuffle_and_repeat(...)`.\n",
            "W0411 21:42:16.434981 140300268816256 deprecation.py:323] From /usr/local/lib/python3.6/dist-packages/magenta/models/gansynth/lib/datasets.py:66: shuffle_and_repeat (from tensorflow.contrib.data.python.ops.shuffle_ops) is deprecated and will be removed in a future version.\n",
            "Instructions for updating:\n",
            "Use `tf.data.experimental.shuffle_and_repeat(...)`.\n",
            "WARNING:tensorflow:From /tensorflow-1.15.2/python3.6/tensorflow_core/contrib/data/python/ops/shuffle_ops.py:54: shuffle_and_repeat (from tensorflow.python.data.experimental.ops.shuffle_ops) is deprecated and will be removed in a future version.\n",
            "Instructions for updating:\n",
            "Use `tf.data.Dataset.shuffle(buffer_size, seed)` followed by `tf.data.Dataset.repeat(count)`. Static tf.data optimizations will take care of using the fused implementation.\n",
            "W0411 21:42:16.435276 140300268816256 deprecation.py:323] From /tensorflow-1.15.2/python3.6/tensorflow_core/contrib/data/python/ops/shuffle_ops.py:54: shuffle_and_repeat (from tensorflow.python.data.experimental.ops.shuffle_ops) is deprecated and will be removed in a future version.\n",
            "Instructions for updating:\n",
            "Use `tf.data.Dataset.shuffle(buffer_size, seed)` followed by `tf.data.Dataset.repeat(count)`. Static tf.data optimizations will take care of using the fused implementation.\n",
            "WARNING:tensorflow:From /usr/local/lib/python3.6/dist-packages/magenta/models/gansynth/lib/datasets.py:69: parallel_interleave (from tensorflow.contrib.data.python.ops.interleave_ops) is deprecated and will be removed in a future version.\n",
            "Instructions for updating:\n",
            "Use `tf.data.experimental.parallel_interleave(...)`.\n",
            "W0411 21:42:16.437924 140300268816256 deprecation.py:323] From /usr/local/lib/python3.6/dist-packages/magenta/models/gansynth/lib/datasets.py:69: parallel_interleave (from tensorflow.contrib.data.python.ops.interleave_ops) is deprecated and will be removed in a future version.\n",
            "Instructions for updating:\n",
            "Use `tf.data.experimental.parallel_interleave(...)`.\n",
            "WARNING:tensorflow:From /tensorflow-1.15.2/python3.6/tensorflow_core/contrib/data/python/ops/interleave_ops.py:77: parallel_interleave (from tensorflow.python.data.experimental.ops.interleave_ops) is deprecated and will be removed in a future version.\n",
            "Instructions for updating:\n",
            "Use `tf.data.Dataset.interleave(map_func, cycle_length, block_length, num_parallel_calls=tf.data.experimental.AUTOTUNE)` instead. If sloppy execution is desired, use `tf.data.Options.experimental_determinstic`.\n",
            "W0411 21:42:16.438158 140300268816256 deprecation.py:323] From /tensorflow-1.15.2/python3.6/tensorflow_core/contrib/data/python/ops/interleave_ops.py:77: parallel_interleave (from tensorflow.python.data.experimental.ops.interleave_ops) is deprecated and will be removed in a future version.\n",
            "Instructions for updating:\n",
            "Use `tf.data.Dataset.interleave(map_func, cycle_length, block_length, num_parallel_calls=tf.data.experimental.AUTOTUNE)` instead. If sloppy execution is desired, use `tf.data.Options.experimental_determinstic`.\n",
            "WARNING:tensorflow:From /usr/local/lib/python3.6/dist-packages/magenta/models/gansynth/lib/spectral_ops.py:260: to_float (from tensorflow.python.ops.math_ops) is deprecated and will be removed in a future version.\n",
            "Instructions for updating:\n",
            "Use `tf.cast` instead.\n",
            "W0411 21:42:16.840987 140300268816256 deprecation.py:323] From /usr/local/lib/python3.6/dist-packages/magenta/models/gansynth/lib/spectral_ops.py:260: to_float (from tensorflow.python.ops.math_ops) is deprecated and will be removed in a future version.\n",
            "Instructions for updating:\n",
            "Use `tf.cast` instead.\n",
            "WARNING:tensorflow:From /usr/local/lib/python3.6/dist-packages/magenta/models/gansynth/lib/spectral_ops.py:260: to_int32 (from tensorflow.python.ops.math_ops) is deprecated and will be removed in a future version.\n",
            "Instructions for updating:\n",
            "Use `tf.cast` instead.\n",
            "W0411 21:42:16.843947 140300268816256 deprecation.py:323] From /usr/local/lib/python3.6/dist-packages/magenta/models/gansynth/lib/spectral_ops.py:260: to_int32 (from tensorflow.python.ops.math_ops) is deprecated and will be removed in a future version.\n",
            "Instructions for updating:\n",
            "Use `tf.cast` instead.\n",
            "WARNING:tensorflow:From /usr/local/lib/python3.6/dist-packages/magenta/models/gansynth/lib/spectral_ops.py:186: where (from tensorflow.python.ops.array_ops) is deprecated and will be removed in a future version.\n",
            "Instructions for updating:\n",
            "Use tf.where in 2.0, which has the same broadcast rule as np.where\n",
            "W0411 21:42:18.224452 140300268816256 deprecation.py:323] From /usr/local/lib/python3.6/dist-packages/magenta/models/gansynth/lib/spectral_ops.py:186: where (from tensorflow.python.ops.array_ops) is deprecated and will be removed in a future version.\n",
            "Instructions for updating:\n",
            "Use tf.where in 2.0, which has the same broadcast rule as np.where\n",
            "WARNING:tensorflow:From /usr/local/lib/python3.6/dist-packages/magenta/models/gansynth/lib/data_helpers.py:72: DatasetV1.make_initializable_iterator (from tensorflow.python.data.ops.dataset_ops) is deprecated and will be removed in a future version.\n",
            "Instructions for updating:\n",
            "Use `for ... in dataset:` to iterate over a dataset. If using `tf.estimator`, return the `Dataset` object directly from your input function. As a last resort, you can use `tf.compat.v1.data.make_initializable_iterator(dataset)`.\n",
            "W0411 21:42:20.540791 140300268816256 deprecation.py:323] From /usr/local/lib/python3.6/dist-packages/magenta/models/gansynth/lib/data_helpers.py:72: DatasetV1.make_initializable_iterator (from tensorflow.python.data.ops.dataset_ops) is deprecated and will be removed in a future version.\n",
            "Instructions for updating:\n",
            "Use `for ... in dataset:` to iterate over a dataset. If using `tf.estimator`, return the `Dataset` object directly from your input function. As a last resort, you can use `tf.compat.v1.data.make_initializable_iterator(dataset)`.\n",
            "WARNING:tensorflow:From /usr/local/lib/python3.6/dist-packages/magenta/models/gansynth/lib/datasets.py:78: multinomial (from tensorflow.python.ops.random_ops) is deprecated and will be removed in a future version.\n",
            "Instructions for updating:\n",
            "Use `tf.random.categorical` instead.\n",
            "W0411 21:42:20.551541 140300268816256 deprecation.py:323] From /usr/local/lib/python3.6/dist-packages/magenta/models/gansynth/lib/datasets.py:78: multinomial (from tensorflow.python.ops.random_ops) is deprecated and will be removed in a future version.\n",
            "Instructions for updating:\n",
            "Use `tf.random.categorical` instead.\n",
            "WARNING:tensorflow:From /tensorflow-1.15.2/python3.6/tensorflow_core/contrib/layers/python/layers/layers.py:1634: flatten (from tensorflow.python.layers.core) is deprecated and will be removed in a future version.\n",
            "Instructions for updating:\n",
            "Use keras.layers.flatten instead.\n",
            "W0411 21:42:20.623019 140300268816256 deprecation.py:323] From /tensorflow-1.15.2/python3.6/tensorflow_core/contrib/layers/python/layers/layers.py:1634: flatten (from tensorflow.python.layers.core) is deprecated and will be removed in a future version.\n",
            "Instructions for updating:\n",
            "Use keras.layers.flatten instead.\n",
            "WARNING:tensorflow:From /tensorflow-1.15.2/python3.6/tensorflow_core/python/layers/core.py:332: Layer.apply (from tensorflow.python.keras.engine.base_layer) is deprecated and will be removed in a future version.\n",
            "Instructions for updating:\n",
            "Please use `layer.__call__` method instead.\n",
            "W0411 21:42:20.625856 140300268816256 deprecation.py:323] From /tensorflow-1.15.2/python3.6/tensorflow_core/python/layers/core.py:332: Layer.apply (from tensorflow.python.keras.engine.base_layer) is deprecated and will be removed in a future version.\n",
            "Instructions for updating:\n",
            "Please use `layer.__call__` method instead.\n",
            "WARNING:tensorflow:From /usr/local/lib/python3.6/dist-packages/magenta/models/gansynth/lib/layers.py:285: conv2d (from tensorflow.python.layers.convolutional) is deprecated and will be removed in a future version.\n",
            "Instructions for updating:\n",
            "Use `tf.keras.layers.Conv2D` instead.\n",
            "W0411 21:42:20.637879 140300268816256 deprecation.py:323] From /usr/local/lib/python3.6/dist-packages/magenta/models/gansynth/lib/layers.py:285: conv2d (from tensorflow.python.layers.convolutional) is deprecated and will be removed in a future version.\n",
            "Instructions for updating:\n",
            "Use `tf.keras.layers.Conv2D` instead.\n",
            "WARNING:tensorflow:From /usr/local/lib/python3.6/dist-packages/magenta/models/gansynth/lib/layers.py:331: dense (from tensorflow.python.layers.core) is deprecated and will be removed in a future version.\n",
            "Instructions for updating:\n",
            "Use keras.layers.Dense instead.\n",
            "W0411 21:42:21.460888 140300268816256 deprecation.py:323] From /usr/local/lib/python3.6/dist-packages/magenta/models/gansynth/lib/layers.py:331: dense (from tensorflow.python.layers.core) is deprecated and will be removed in a future version.\n",
            "Instructions for updating:\n",
            "Use keras.layers.Dense instead.\n",
            "WARNING:tensorflow:From /tensorflow-1.15.2/python3.6/tensorflow_gan/python/contrib_utils.py:56: _colocate_with (from tensorflow.python.framework.ops) is deprecated and will be removed in a future version.\n",
            "Instructions for updating:\n",
            "Colocations handled automatically by placer.\n",
            "W0411 21:42:26.168408 140300268816256 deprecation.py:323] From /tensorflow-1.15.2/python3.6/tensorflow_gan/python/contrib_utils.py:56: _colocate_with (from tensorflow.python.framework.ops) is deprecated and will be removed in a future version.\n",
            "Instructions for updating:\n",
            "Colocations handled automatically by placer.\n",
            "WARNING:tensorflow:From /tensorflow-1.15.2/python3.6/tensorflow_core/python/training/moving_averages.py:433: Variable.initialized_value (from tensorflow.python.ops.variables) is deprecated and will be removed in a future version.\n",
            "Instructions for updating:\n",
            "Use Variable.read_value. Variables in 2.X are initialized automatically both in eager and graph (inside tf.defun) contexts.\n",
            "W0411 21:42:29.103765 140300268816256 deprecation.py:323] From /tensorflow-1.15.2/python3.6/tensorflow_core/python/training/moving_averages.py:433: Variable.initialized_value (from tensorflow.python.ops.variables) is deprecated and will be removed in a future version.\n",
            "Instructions for updating:\n",
            "Use Variable.read_value. Variables in 2.X are initialized automatically both in eager and graph (inside tf.defun) contexts.\n",
            "2020-04-11 21:42:30.960393: I tensorflow/stream_executor/platform/default/dso_loader.cc:44] Successfully opened dynamic library libcuda.so.1\n",
            "2020-04-11 21:42:30.962578: E tensorflow/stream_executor/cuda/cuda_driver.cc:318] failed call to cuInit: CUDA_ERROR_NO_DEVICE: no CUDA-capable device is detected\n",
            "2020-04-11 21:42:30.962621: I tensorflow/stream_executor/cuda/cuda_diagnostics.cc:156] kernel driver does not appear to be running on this host (23626e3ec8f1): /proc/driver/nvidia/version does not exist\n",
            "2020-04-11 21:42:30.968140: I tensorflow/core/platform/profile_utils/cpu_utils.cc:94] CPU Frequency: 2200000000 Hz\n",
            "2020-04-11 21:42:30.968438: I tensorflow/compiler/xla/service/service.cc:168] XLA service 0x715bc00 initialized for platform Host (this does not guarantee that XLA will be used). Devices:\n",
            "2020-04-11 21:42:30.968495: I tensorflow/compiler/xla/service/service.cc:176]   StreamExecutor device (0): Host, Default Version\n",
            "INFO:tensorflow:Restoring parameters from /content/drive/Colab_Notebooks/musicProject/preTrainedModels/acoustic_only/stage_00012/./model.ckpt-11000000\n",
            "I0411 21:42:30.972451 140300268816256 saver.py:1284] Restoring parameters from /content/drive/Colab_Notebooks/musicProject/preTrainedModels/acoustic_only/stage_00012/./model.ckpt-11000000\n",
            "Generating 613 samples...\n",
            "tcmalloc: large alloc 2416074752 bytes == 0x54a56000 @  0x7f9a336c11e7 0x7f99fde8b322 0x7f9a01a61c3a 0x7f9a01aa4ae9 0x7f9a01aa6cb7 0x7f9a01aa74c1 0x7f9a01aed3ab 0x7f9a01aeda4c 0x7f9a01aeee0c 0x7f99f9304136 0x7f99f92f6785 0x7f99f93b48b9 0x7f99f93b1f88 0x7f9a31fa36df 0x7f9a330856db 0x7f9a333be88f\n",
            "tcmalloc: large alloc 1208041472 bytes == 0x38a4a000 @  0x7f9a336c11e7 0x7f99fde8b322 0x7f9a01a61c3a 0x7f9a01aa4ae9 0x7f9a01aa6cb7 0x7f9a01aa74c1 0x7f9a01aed3ab 0x7f9a01aeda4c 0x7f9a01aeee0c 0x7f99f9304136 0x7f99f92f6785 0x7f99f93b48b9 0x7f99f93b1f88 0x7f9a31fa36df 0x7f9a330856db 0x7f9a333be88f\n",
            "tcmalloc: large alloc 2416074752 bytes == 0x4e83e000 @  0x7f9a336c11e7 0x7f99fde8b322 0x7f9a01a61c3a 0x7f9a01aa4ae9 0x7f9a01aa6cb7 0x7f9a01aa74c1 0x7f9a01aed3ab 0x7f9a01aeda4c 0x7f9a01aeee0c 0x7f99f9304136 0x7f99f92f6785 0x7f99f93b48b9 0x7f99f93b1f88 0x7f9a31fa36df 0x7f9a330856db 0x7f9a333be88f\n",
            "tcmalloc: large alloc 2416074752 bytes == 0x4ea3e000 @  0x7f9a336c11e7 0x7f99fde8b322 0x7f9a01a61c3a 0x7f9a01aa4ae9 0x7f9a01aa6cb7 0x7f9a01aa74c1 0x7f9a01aed3ab 0x7f9a01aeda4c 0x7f9a01aeee0c 0x7f99f9304136 0x7f99f92f6785 0x7f99f93b48b9 0x7f99f93b1f88 0x7f9a31fa36df 0x7f9a330856db 0x7f9a333be88f\n",
            "tcmalloc: large alloc 2416074752 bytes == 0x4ec32000 @  0x7f9a336c11e7 0x7f99fde8b322 0x7f9a01a61c3a 0x7f9a01aa4ae9 0x7f9a01aa6cb7 0x7f9a01aa74c1 0x7f9a01aed3ab 0x7f9a01aeda4c 0x7f9a01aeee0c 0x7f99f9304136 0x7f99f92f6785 0x7f99f93b48b9 0x7f99f93b1f88 0x7f9a31fa36df 0x7f9a330856db 0x7f9a333be88f\n",
            "tcmalloc: large alloc 2416074752 bytes == 0x52e32000 @  0x7f9a336c11e7 0x7f99fde8b322 0x7f9a01a61c3a 0x7f9a01aa4ae9 0x7f9a01aa6cb7 0x7f9a01aa74c1 0x7f9a01aed3ab 0x7f9a01aeda4c 0x7f9a01aeee0c 0x7f99f9304136 0x7f99f92f6785 0x7f99f93b48b9 0x7f99f93b1f88 0x7f9a31fa36df 0x7f9a330856db 0x7f9a333be88f\n",
            "tcmalloc: large alloc 2416074752 bytes == 0x4f01a000 @  0x7f9a336c11e7 0x7f99fde8b322 0x7f9a01a61c3a 0x7f9a01aa4ae9 0x7f9a01aa6cb7 0x7f9a01aa74c1 0x7f9a01aed3ab 0x7f9a01aeda4c 0x7f9a01aeee0c 0x7f99f9304136 0x7f99f92f6785 0x7f99f93b48b9 0x7f99f93b1f88 0x7f9a31fa36df 0x7f9a330856db 0x7f9a333be88f\n",
            "generate_samples: generated 613 samples in 423.09907627105713s\n",
            "Saved to /content/drive/Colab_Notebooks/musicProject/generated_clip.wav\n"
          ],
          "name": "stdout"
        }
      ]
    },
    {
      "cell_type": "code",
      "metadata": {
        "id": "oxkAQ8x7AtcY",
        "colab_type": "code",
        "colab": {}
      },
      "source": [
        ""
      ],
      "execution_count": 0,
      "outputs": []
    }
  ]
}